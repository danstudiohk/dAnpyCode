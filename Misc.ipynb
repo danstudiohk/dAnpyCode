{
  "nbformat": 4,
  "nbformat_minor": 0,
  "metadata": {
    "colab": {
      "name": "Misc.ipynb",
      "provenance": [],
      "mount_file_id": "1fRr-t4wDvRdBkM27IgC6hR8IhLXN_Kmr",
      "authorship_tag": "ABX9TyNk6kihmnLCSL3p27KeOkw5",
      "include_colab_link": true
    },
    "kernelspec": {
      "name": "python3",
      "display_name": "Python 3"
    },
    "language_info": {
      "name": "python"
    }
  },
  "cells": [
    {
      "cell_type": "markdown",
      "metadata": {
        "id": "view-in-github",
        "colab_type": "text"
      },
      "source": [
        "<a href=\"https://colab.research.google.com/github/danstudiohk/dAnpyCode/blob/main/Misc.ipynb\" target=\"_parent\"><img src=\"https://colab.research.google.com/assets/colab-badge.svg\" alt=\"Open In Colab\"/></a>"
      ]
    },
    {
      "cell_type": "code",
      "metadata": {
        "id": "uw1ckzzhsC0A"
      },
      "source": [
        "import os\n",
        "import glob"
      ],
      "execution_count": 7,
      "outputs": []
    },
    {
      "cell_type": "code",
      "metadata": {
        "colab": {
          "base_uri": "https://localhost:8080/"
        },
        "id": "YfkEyD3Vszgb",
        "outputId": "6c35e06e-915a-4de3-fe5f-2a36abc8f3c5"
      },
      "source": [
        "%time"
      ],
      "execution_count": 3,
      "outputs": [
        {
          "output_type": "stream",
          "text": [
            "CPU times: user 3 µs, sys: 0 ns, total: 3 µs\n",
            "Wall time: 5.25 µs\n"
          ],
          "name": "stdout"
        }
      ]
    },
    {
      "cell_type": "code",
      "metadata": {
        "colab": {
          "base_uri": "https://localhost:8080/"
        },
        "id": "ciVtUTQ8s0eJ",
        "outputId": "bf931e64-6f95-4a8d-c638-fc0a681a561a"
      },
      "source": [
        "# List out all .ipynb in path\n",
        "# glob.glob（pathname)\n",
        "glob.glob(r'/content/drive/MyDrive/*.ipynb') "
      ],
      "execution_count": 13,
      "outputs": [
        {
          "output_type": "execute_result",
          "data": {
            "text/plain": [
              "['/content/drive/MyDrive/ML - Tree.ipynb', '/content/drive/MyDrive/Plot.ipynb']"
            ]
          },
          "metadata": {
            "tags": []
          },
          "execution_count": 13
        }
      ]
    },
    {
      "cell_type": "code",
      "metadata": {
        "id": "UXFdQhIltBGY"
      },
      "source": [
        ""
      ],
      "execution_count": null,
      "outputs": []
    }
  ]
}